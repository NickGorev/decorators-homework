{
 "cells": [
  {
   "cell_type": "markdown",
   "id": "11a22a53",
   "metadata": {},
   "source": [
    "# Декораторы\n",
    "\n",
    "В этом домашнем задании мы напишем собственные дектораторы, которые будут менять системные объекты. Но для начала мы с вами познакомимся с функцией `write`."
   ]
  },
  {
   "cell_type": "code",
   "execution_count": 1,
   "id": "8be54668",
   "metadata": {},
   "outputs": [],
   "source": [
    "import sys\n",
    "from datetime import datetime\n",
    "from typing import Callable\n",
    "from functools import wraps"
   ]
  },
  {
   "cell_type": "code",
   "execution_count": 2,
   "id": "2c2dc3b0",
   "metadata": {},
   "outputs": [
    {
     "name": "stdout",
     "output_type": "stream",
     "text": [
      "Hello, my friend!"
     ]
    },
    {
     "data": {
      "text/plain": [
       "17"
      ]
     },
     "execution_count": 2,
     "metadata": {},
     "output_type": "execute_result"
    }
   ],
   "source": [
    "sys.stdout.write('Hello, my friend!')"
   ]
  },
  {
   "cell_type": "markdown",
   "id": "23c92635",
   "metadata": {},
   "source": [
    "Это метод объектов file-like классов, то есть классов, которые реализуют семантику \"Меня можно создать, из меня можно прочитать и в меня можно записать\".\n",
    "\n",
    "Самый главный пример такого объекта -- объект `file`, являющийся результатом вызова фукнции `open()`. Для простоты и универсальности взаимодействия, стандартный ввод и стандартный вывод тоже являются файлами, из которых можно читать и в которые можно писать. "
   ]
  },
  {
   "cell_type": "code",
   "execution_count": 3,
   "id": "0ce62055",
   "metadata": {},
   "outputs": [],
   "source": [
    "output = open(\"./some_test_data.txt\", 'w')"
   ]
  },
  {
   "cell_type": "code",
   "execution_count": 4,
   "id": "302f574f",
   "metadata": {},
   "outputs": [
    {
     "data": {
      "text/plain": [
       "3"
      ]
     },
     "execution_count": 4,
     "metadata": {},
     "output_type": "execute_result"
    }
   ],
   "source": [
    "output.write('123')"
   ]
  },
  {
   "cell_type": "code",
   "execution_count": 5,
   "id": "d08c53b4",
   "metadata": {},
   "outputs": [],
   "source": [
    "output.close()"
   ]
  },
  {
   "cell_type": "markdown",
   "id": "b3bcebad",
   "metadata": {},
   "source": [
    "Как вы могли заметить, функция возвращает число записанных байт. Это важная часть контракта, которую нужно поддержать, если вы хотите как-то подменять эту функцию."
   ]
  },
  {
   "cell_type": "markdown",
   "id": "23b94491",
   "metadata": {},
   "source": [
    "## Задача 1"
   ]
  },
  {
   "cell_type": "markdown",
   "id": "1eb22a2f",
   "metadata": {},
   "source": [
    "Для начала, давайте подменим метод `write` у объекта `sys.stdout` на такую функцию, которая перед каждым вызовом оригинальной функции записи данных в `stdout` допечатывает к тексту текущую метку времени."
   ]
  },
  {
   "cell_type": "code",
   "execution_count": 6,
   "id": "732073b9",
   "metadata": {},
   "outputs": [],
   "source": [
    "original_write = sys.stdout.write\n",
    "new_line_flag = True\n",
    "\n",
    "\n",
    "def my_write(string_text: str) -> int:\n",
    "    global new_line_flag\n",
    "    now = f'[{datetime.now():%Y-%m-%d %H:%M}]: '\n",
    "    if new_line_flag:\n",
    "        string_text = f'{now}{string_text}'\n",
    "        new_line_flag = False\n",
    "    if string_text == '\\n':\n",
    "        new_line_flag = True\n",
    "    else:\n",
    "        string_text = string_text.replace('\\n', f'\\n{now}')\n",
    "    return original_write(string_text)\n",
    "\n",
    "\n",
    "sys.stdout.write = my_write"
   ]
  },
  {
   "cell_type": "code",
   "execution_count": 7,
   "id": "d8f650f6",
   "metadata": {},
   "outputs": [
    {
     "name": "stdout",
     "output_type": "stream",
     "text": [
      "[2022-11-23 09:35]: 1, 2, 3\n"
     ]
    }
   ],
   "source": [
    "print('1, 2, 3')"
   ]
  },
  {
   "cell_type": "markdown",
   "id": "3c5e22b6",
   "metadata": {},
   "source": [
    "Вывод должен был бы быть примерно таким:"
   ]
  },
  {
   "cell_type": "markdown",
   "id": "e62d012d",
   "metadata": {},
   "source": [
    "```\n",
    "[2021-12-05 12:00:00]: 1, 2, 3\n",
    "```"
   ]
  },
  {
   "cell_type": "code",
   "execution_count": 8,
   "id": "ed2383ff",
   "metadata": {},
   "outputs": [
    {
     "name": "stdout",
     "output_type": "stream",
     "text": [
      "[2022-11-23 09:35]: 1 2 3\n",
      "[2022-11-23 09:35]: 1, 2, 3,\n",
      "[2022-11-23 09:35]: 4, 5, 6\n",
      "[2022-11-23 09:35]: 1\n",
      "[2022-11-23 09:35]: 2\n",
      "[2022-11-23 09:35]: 3\n",
      "[2022-11-23 09:35]: 4\n",
      "[2022-11-23 09:35]: 5\n",
      "[2022-11-23 09:35]: 6\n"
     ]
    }
   ],
   "source": [
    "# ещё тесты\n",
    "print(1, 2, 3)\n",
    "print('1, 2, 3,\\n4, 5, 6')\n",
    "print(1, 2, 3, 4, 5, 6, sep='\\n')"
   ]
  },
  {
   "cell_type": "code",
   "execution_count": 9,
   "id": "0b007f10",
   "metadata": {},
   "outputs": [],
   "source": [
    "sys.stdout.write = original_write"
   ]
  },
  {
   "cell_type": "markdown",
   "id": "903fcee1",
   "metadata": {},
   "source": [
    "## Задача 2\n",
    "\n",
    "Упакуйте только что написанный код в декторатор. Весь вывод фукнции должен быть помечен временными метками так, как видно выше."
   ]
  },
  {
   "cell_type": "code",
   "execution_count": 10,
   "id": "5804423b",
   "metadata": {},
   "outputs": [],
   "source": [
    "def timed_output(function: Callable) -> Callable:\n",
    "    \"\"\"декоратор, который добавляет в каждую строку вывода временную мету\"\"\"\n",
    "    original_write = sys.stdout.write\n",
    "    new_line_flag = True\n",
    "\n",
    "    def my_write(string_text: str):\n",
    "        nonlocal new_line_flag\n",
    "        now = f'[{datetime.now():%Y-%m-%d %H:%M}]: '\n",
    "        if new_line_flag:\n",
    "            string_text = f'{now}{string_text}'\n",
    "            new_line_flag = False\n",
    "        if string_text == '\\n':\n",
    "            new_line_flag = True\n",
    "        else:\n",
    "            string_text = string_text.replace('\\n', f'\\n{now}')\n",
    "        return original_write(string_text)\n",
    "\n",
    "    def wrapper(name: str):\n",
    "        sys.stdout.write = my_write\n",
    "        return_value = function(name)\n",
    "        sys.stdout.write = original_write\n",
    "        return return_value\n",
    "\n",
    "    return wrapper"
   ]
  },
  {
   "cell_type": "code",
   "execution_count": 11,
   "id": "f43373a5",
   "metadata": {},
   "outputs": [],
   "source": [
    "@timed_output\n",
    "def print_greeting(name):\n",
    "    print(f'Hello, {name}!')"
   ]
  },
  {
   "cell_type": "code",
   "execution_count": 12,
   "id": "6a2283db",
   "metadata": {},
   "outputs": [
    {
     "name": "stdout",
     "output_type": "stream",
     "text": [
      "[2022-11-23 09:35]: Hello, Nikita!\n"
     ]
    }
   ],
   "source": [
    "print_greeting(\"Nikita\")"
   ]
  },
  {
   "cell_type": "markdown",
   "id": "37fad5fd",
   "metadata": {},
   "source": [
    "Вывод должен быть похож на следующий:\n",
    "\n",
    "```\n",
    "[2021-12-05 12:00:00]: Hello, Nikita!\n",
    "```"
   ]
  },
  {
   "cell_type": "code",
   "execution_count": 13,
   "id": "072ad7c5",
   "metadata": {},
   "outputs": [],
   "source": [
    "@timed_output\n",
    "def print_tests(name: str):\n",
    "    \"\"\"ещё тесты\"\"\"\n",
    "    print(f'Hello, {name}!')\n",
    "    print('')\n",
    "    print(1, 2, 3)\n",
    "    print('1, 2, 3,\\n4, 5, 6')\n",
    "    print(1, 2, 3, 4, 5, 6, sep='\\n')"
   ]
  },
  {
   "cell_type": "code",
   "execution_count": 14,
   "id": "04f67151",
   "metadata": {},
   "outputs": [
    {
     "name": "stdout",
     "output_type": "stream",
     "text": [
      "[2022-11-23 09:35]: Hello, Nikita!\n",
      "[2022-11-23 09:35]: \n",
      "[2022-11-23 09:35]: 1 2 3\n",
      "[2022-11-23 09:35]: 1, 2, 3,\n",
      "[2022-11-23 09:35]: 4, 5, 6\n",
      "[2022-11-23 09:35]: 1\n",
      "[2022-11-23 09:35]: 2\n",
      "[2022-11-23 09:35]: 3\n",
      "[2022-11-23 09:35]: 4\n",
      "[2022-11-23 09:35]: 5\n",
      "[2022-11-23 09:35]: 6\n"
     ]
    }
   ],
   "source": [
    "print_tests(\"Nikita\")"
   ]
  },
  {
   "cell_type": "markdown",
   "id": "8a3aee6d",
   "metadata": {},
   "source": [
    "## Задача 3\n",
    "\n",
    "Напишите декторатор, который будет перенаправлять вывод фукнции в файл. \n",
    "\n",
    "Подсказка: вы можете заменить объект sys.stdout каким-нибудь другим объектом."
   ]
  },
  {
   "cell_type": "code",
   "execution_count": 15,
   "id": "de733186",
   "metadata": {},
   "outputs": [],
   "source": [
    "def redirect_output(filepath: str, *file_args, **file_kwargs) -> Callable:\n",
    "    \"\"\"генерирует декоратор, перенаправляющий вывод из stdout в файл filepath\"\"\"\n",
    "    def decorator(function: Callable) -> Callable:\n",
    "        @wraps(function)\n",
    "        def wrapper(*args, **kwargs):\n",
    "            original_stdout = sys.stdout\n",
    "            with open(filepath, 'w', *file_args, **file_kwargs) as otf:\n",
    "                sys.stdout = otf\n",
    "                return_value = function(*args, **kwargs)\n",
    "            sys.stdout = original_stdout\n",
    "            return return_value\n",
    "        return wrapper\n",
    "    return decorator"
   ]
  },
  {
   "cell_type": "code",
   "execution_count": 16,
   "id": "37e01742",
   "metadata": {},
   "outputs": [],
   "source": [
    "@redirect_output('./function_output.txt')\n",
    "def calculate():\n",
    "    for power in range(1, 5):\n",
    "        for num in range(1, 20):\n",
    "            print(num ** power, end=' ')\n",
    "        print()"
   ]
  },
  {
   "cell_type": "code",
   "execution_count": 17,
   "id": "e892f124",
   "metadata": {},
   "outputs": [],
   "source": [
    "calculate()"
   ]
  },
  {
   "cell_type": "code",
   "execution_count": 18,
   "id": "ac06c89e",
   "metadata": {},
   "outputs": [
    {
     "name": "stdout",
     "output_type": "stream",
     "text": [
      "1 2 3 4 5 6 7 8 9 10 11 12 13 14 15 16 17 18 19 \n",
      "1 4 9 16 25 36 49 64 81 100 121 144 169 196 225 256 289 324 361 \n",
      "1 8 27 64 125 216 343 512 729 1000 1331 1728 2197 2744 3375 4096 4913 5832 6859 \n",
      "1 16 81 256 625 1296 2401 4096 6561 10000 14641 20736 28561 38416 50625 65536 83521 104976 130321 \n"
     ]
    }
   ],
   "source": [
    "# вывод файла в консоль windows\n",
    "!type function_output.txt"
   ]
  },
  {
   "cell_type": "code",
   "execution_count": 19,
   "id": "1dcf9ba1",
   "metadata": {},
   "outputs": [
    {
     "data": {
      "text/plain": [
       "'calculate'"
      ]
     },
     "execution_count": 19,
     "metadata": {},
     "output_type": "execute_result"
    }
   ],
   "source": [
    "calculate.__name__"
   ]
  }
 ],
 "metadata": {
  "kernelspec": {
   "display_name": "Python 3 (ipykernel)",
   "language": "python",
   "name": "python3"
  },
  "language_info": {
   "codemirror_mode": {
    "name": "ipython",
    "version": 3
   },
   "file_extension": ".py",
   "mimetype": "text/x-python",
   "name": "python",
   "nbconvert_exporter": "python",
   "pygments_lexer": "ipython3",
   "version": "3.9.12"
  }
 },
 "nbformat": 4,
 "nbformat_minor": 5
}
